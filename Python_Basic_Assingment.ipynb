{
  "nbformat": 4,
  "nbformat_minor": 0,
  "metadata": {
    "colab": {
      "provenance": []
    },
    "kernelspec": {
      "name": "python3",
      "display_name": "Python 3"
    },
    "language_info": {
      "name": "python"
    }
  },
  "cells": [
    {
      "cell_type": "code",
      "execution_count": null,
      "metadata": {
        "id": "hLYfcddb7RbI"
      },
      "outputs": [],
      "source": []
    },
    {
      "cell_type": "markdown",
      "source": [
        "1. What is Python, and why is it popular?\n",
        "Ans: Python is a high-level, versatile programming language known for its simplicity and readability. It is popular because of its wide range of libraries, support for multiple programming paradigms, and suitability for tasks like web development, data analysis, AI, and automation.\n",
        "\n",
        "2. What is an interpreter in Python?\n",
        "Ans: An interpreter in Python is a program that reads and executes Python code line by line, making it easier to debug and execute scripts interactively.\n",
        "\n",
        "3. What are predefined keywords in Python?\n",
        "Ans: Predefined keywords in Python are reserved words with special meanings, like if, else, while, True, and None. These cannot be redefined or used for other purposes like variable names.\n",
        "\n",
        "4. Can keywords be used as variable names?\n",
        "Ans: No, keywords cannot be used as variable names because they are reserved for specific language functionality and would cause syntax errors.\n",
        "\n",
        "5. What is mutability in Python?\n",
        "Ans: Mutability refers to an object's ability to change its state or content after creation. Mutable objects like lists can be modified, while immutable objects like tuples cannot.\n",
        "\n",
        "6. Why are lists mutable, but tuples are immutable?\n",
        "Ans: Lists are mutable to allow dynamic changes in their elements, making them versatile for various operations. Tuples are immutable to ensure their data remains constant, making them useful for fixed data.\n",
        "\n",
        "7. What is the difference between == and is operators in Python?\n",
        "Ans: == checks if two values are equal, while is checks if two variables reference the same object in memory.\n",
        "\n",
        "8. What are logical operators in Python?\n",
        "ANs: Logical operators, such as and, or, and not, are used to combine or negate boolean expressions, enabling complex conditional checks.\n",
        "\n",
        "9. What is type casting in Python?\n",
        "Ans: Type casting in Python is converting a variable from one data type to another, such as converting a string to an integer using int().\n",
        "\n",
        "10. What is the difference between implicit and explicit type casting?\n",
        "Ans: Implicit type casting is done automatically by Python, while explicit type casting requires using functions like int(), float(), or str() to convert data types manually.\n",
        "\n",
        "11. What is the purpose of conditional statements in Python?\n",
        "Ans: Conditional statements, like if, allow programs to make decisions and execute specific code blocks based on conditions.\n",
        "\n",
        "12. How does the elif statement work?\n",
        "Ans: The elif statement is used to check multiple conditions after an initial if condition. If the if condition is false, elif conditions are evaluated sequentially until one is true.\n",
        "\n",
        "13. What is the difference between for and while loops?\n",
        "Ans: A for loop iterates over a sequence (like a list or range), while a while loop continues running as long as its condition remains true, making it useful for indefinite iteration.\n",
        "\n",
        "14. Describe a scenario where a while loop is more suitable than a for loop.\n",
        "Ans: A while loop is better when the number of iterations is unknown beforehand, such as reading user input until a specific keyword is entered.\n"
      ],
      "metadata": {
        "id": "JcpltHM-8IpU"
      }
    },
    {
      "cell_type": "code",
      "source": [
        "# 1) Write a Python program to print \"Hello, World!\n",
        "\n",
        "print(\"Hello,World!\")"
      ],
      "metadata": {
        "colab": {
          "base_uri": "https://localhost:8080/"
        },
        "id": "0mfriV8z-vsJ",
        "outputId": "706bb719-897f-4885-a32f-a785873f64d5"
      },
      "execution_count": null,
      "outputs": [
        {
          "output_type": "stream",
          "name": "stdout",
          "text": [
            "Hello,World!\n"
          ]
        }
      ]
    },
    {
      "cell_type": "code",
      "source": [
        "# 2) Write a Python program that displays your name and age\n",
        "print(\"Name: Raj Bharat Divate\\nAge:23\")"
      ],
      "metadata": {
        "colab": {
          "base_uri": "https://localhost:8080/"
        },
        "id": "ClmGB3F8--Uk",
        "outputId": "3912bb60-f323-4679-cfb0-caac3efc2022"
      },
      "execution_count": null,
      "outputs": [
        {
          "output_type": "stream",
          "name": "stdout",
          "text": [
            "Name: Raj Bharat Divate\n",
            "Age:23\n"
          ]
        }
      ]
    },
    {
      "cell_type": "code",
      "source": [
        "\n",
        "\n",
        "# 3)Write code to print all the pre-defined keywords in Python using the keyword library\n",
        "\n",
        "import keyword\n",
        "\n",
        "# Print all predefined keywords in Python\n",
        "print(\"Python Keywords:\")\n",
        "for kw in keyword.kwlist:\n",
        "    print(kw)\n"
      ],
      "metadata": {
        "colab": {
          "base_uri": "https://localhost:8080/"
        },
        "id": "gcNaK1p-_1yt",
        "outputId": "b55f8a43-4edc-4e27-db23-663a1b73e811"
      },
      "execution_count": null,
      "outputs": [
        {
          "output_type": "stream",
          "name": "stdout",
          "text": [
            "Python Keywords:\n",
            "False\n",
            "None\n",
            "True\n",
            "and\n",
            "as\n",
            "assert\n",
            "async\n",
            "await\n",
            "break\n",
            "class\n",
            "continue\n",
            "def\n",
            "del\n",
            "elif\n",
            "else\n",
            "except\n",
            "finally\n",
            "for\n",
            "from\n",
            "global\n",
            "if\n",
            "import\n",
            "in\n",
            "is\n",
            "lambda\n",
            "nonlocal\n",
            "not\n",
            "or\n",
            "pass\n",
            "raise\n",
            "return\n",
            "try\n",
            "while\n",
            "with\n",
            "yield\n"
          ]
        }
      ]
    },
    {
      "cell_type": "code",
      "source": [
        "import keyword\n",
        "word = input(\"Enter a word to check if it's a Python keyword: \")\n",
        "\n",
        "if keyword.iskeyword(word):\n",
        "    print(f\"'{word}' is a Python keyword.\")\n",
        "else:\n",
        "    print(f\"'{word}' is not a Python keyword.\")"
      ],
      "metadata": {
        "colab": {
          "base_uri": "https://localhost:8080/"
        },
        "id": "UeHzp5ZUEs-q",
        "outputId": "80f150ab-8345-4ee0-ce24-0c0753a8f754"
      },
      "execution_count": null,
      "outputs": [
        {
          "output_type": "stream",
          "name": "stdout",
          "text": [
            "Enter a word to check if it's a Python keyword: if\n",
            "'if' is a Python keyword.\n"
          ]
        }
      ]
    },
    {
      "cell_type": "markdown",
      "source": [
        "my_list=[1,2,3,4]\n",
        "my_list[1]=23\n",
        "print(my_list)"
      ],
      "metadata": {
        "id": "FDrx1yoP8HAG"
      }
    },
    {
      "cell_type": "code",
      "source": [
        "my_list=[1,2,3,4]\n",
        "my_list[1]=23\n",
        "print(my_list)\n",
        "\n"
      ],
      "metadata": {
        "colab": {
          "base_uri": "https://localhost:8080/"
        },
        "id": "I6YYHBmVF9p5",
        "outputId": "676fed91-6f72-45b2-b4b6-7b369072670f"
      },
      "execution_count": null,
      "outputs": [
        {
          "output_type": "stream",
          "name": "stdout",
          "text": [
            "[1, 23, 3, 4]\n"
          ]
        }
      ]
    },
    {
      "cell_type": "code",
      "source": [
        "my_tuple = (1,2,3,4)\n",
        "my_tuple (3)=23\n",
        "print(my_tuple)"
      ],
      "metadata": {
        "colab": {
          "base_uri": "https://localhost:8080/",
          "height": 110
        },
        "id": "Lz88t0vLGOaU",
        "outputId": "3c6293e9-db76-406d-9dc5-d42dba848bab"
      },
      "execution_count": null,
      "outputs": [
        {
          "output_type": "error",
          "ename": "SyntaxError",
          "evalue": "cannot assign to function call here. Maybe you meant '==' instead of '='? (<ipython-input-18-1dddcfe6f040>, line 2)",
          "traceback": [
            "\u001b[0;36m  File \u001b[0;32m\"<ipython-input-18-1dddcfe6f040>\"\u001b[0;36m, line \u001b[0;32m2\u001b[0m\n\u001b[0;31m    my_tuple(3)=23\u001b[0m\n\u001b[0m    ^\u001b[0m\n\u001b[0;31mSyntaxError\u001b[0m\u001b[0;31m:\u001b[0m cannot assign to function call here. Maybe you meant '==' instead of '='?\n"
          ]
        }
      ]
    },
    {
      "cell_type": "code",
      "source": [
        "#Write a program to demonstrate the use of logical operator\n",
        "Num1=int(input(\"Eneter number1:\"))\n",
        "Num2=int(input(\"Enter number2:\"))\n",
        "\n",
        "if Num1>=0 or Num2>=0:\n",
        "  print(\"Both the number positive\")\n",
        "else:\n",
        "  print(\"Both the numbers are not Positive\")"
      ],
      "metadata": {
        "colab": {
          "base_uri": "https://localhost:8080/"
        },
        "id": "h3uKamneGcxm",
        "outputId": "eb04281e-9b9a-4f48-f719-6cb3ed814a8a"
      },
      "execution_count": null,
      "outputs": [
        {
          "output_type": "stream",
          "name": "stdout",
          "text": [
            "Eneter number1:2\n",
            "Enter number2:3\n",
            "Both the number positive\n"
          ]
        }
      ]
    },
    {
      "cell_type": "code",
      "source": [
        "# Write a Python program to convert user input from string to integer, float, and boolean type\n",
        "Enter= input(\"Enter the value:\")\n"
      ],
      "metadata": {
        "colab": {
          "base_uri": "https://localhost:8080/"
        },
        "id": "RPyZOFx7II8w",
        "outputId": "30beb389-40a2-41d0-c5e4-ae2b6f78f0ff"
      },
      "execution_count": null,
      "outputs": [
        {
          "name": "stdout",
          "output_type": "stream",
          "text": [
            "Enter the value:Raj\n"
          ]
        }
      ]
    },
    {
      "cell_type": "code",
      "source": [
        "float_value= float(Enter)\n",
        "print(Enter)"
      ],
      "metadata": {
        "colab": {
          "base_uri": "https://localhost:8080/"
        },
        "id": "gqZobn7XJAZH",
        "outputId": "ee6542ce-83b8-42fd-c60d-ae892b10e0b9"
      },
      "execution_count": null,
      "outputs": [
        {
          "output_type": "stream",
          "name": "stdout",
          "text": [
            "3.5\n"
          ]
        }
      ]
    },
    {
      "cell_type": "code",
      "source": [
        "bool_value=bool(Enter)\n",
        "print(Enter)"
      ],
      "metadata": {
        "colab": {
          "base_uri": "https://localhost:8080/"
        },
        "id": "dcwfYSqyJTNz",
        "outputId": "a7b44d0e-84d0-4c43-a443-1d611aaac3e8"
      },
      "execution_count": null,
      "outputs": [
        {
          "output_type": "stream",
          "name": "stdout",
          "text": [
            "Raj\n"
          ]
        }
      ]
    },
    {
      "cell_type": "code",
      "source": [
        "# Take user input as a string\n",
        "user_input = input(\"Enter a value: \")\n",
        "\n",
        "# Convert to integer\n",
        "try:\n",
        "    int_value = int(user_input)\n",
        "    print(f\"Integer: {int_value}\")\n",
        "except ValueError:\n",
        "    print(\"Cannot convert to integer.\")\n",
        "\n",
        "# Convert to float\n",
        "try:\n",
        "    float_value = float(user_input)\n",
        "    print(f\"Float: {float_value}\")\n",
        "except ValueError:\n",
        "    print(\"Cannot convert to float.\")\n",
        "\n",
        "# Convert to boolean\n",
        "bool_value = bool(user_input.strip())\n",
        "print(f\"Boolean: {bool_value}\")\n"
      ],
      "metadata": {
        "colab": {
          "base_uri": "https://localhost:8080/"
        },
        "id": "SXTihwPGKZXX",
        "outputId": "c1bf628b-8e3f-4639-c9f4-df03e1a63d3f"
      },
      "execution_count": null,
      "outputs": [
        {
          "output_type": "stream",
          "name": "stdout",
          "text": [
            "Enter a value: 24\n",
            "Integer: 24\n",
            "Float: 24.0\n",
            "Boolean: True\n"
          ]
        }
      ]
    },
    {
      "cell_type": "code",
      "source": [
        "Number=input(\"Enter the Number\")\n",
        "\n",
        "if  Number>0:\n",
        "  print(\"Number is positive\")\n",
        "elif Number<0:\n",
        "  print(\"Number is Negative\")\n",
        "else:\n",
        "  print(\"Number is zero\")"
      ],
      "metadata": {
        "colab": {
          "base_uri": "https://localhost:8080/",
          "height": 237
        },
        "id": "Lx5-LZUnL1ut",
        "outputId": "4f613947-77cd-4ac6-b603-eba92328cf48"
      },
      "execution_count": null,
      "outputs": [
        {
          "name": "stdout",
          "output_type": "stream",
          "text": [
            "Enter the Number4\n"
          ]
        },
        {
          "output_type": "error",
          "ename": "TypeError",
          "evalue": "'>' not supported between instances of 'str' and 'int'",
          "traceback": [
            "\u001b[0;31m---------------------------------------------------------------------------\u001b[0m",
            "\u001b[0;31mTypeError\u001b[0m                                 Traceback (most recent call last)",
            "\u001b[0;32m<ipython-input-53-42b47dd04b18>\u001b[0m in \u001b[0;36m<cell line: 3>\u001b[0;34m()\u001b[0m\n\u001b[1;32m      1\u001b[0m \u001b[0mNumber\u001b[0m\u001b[0;34m=\u001b[0m\u001b[0minput\u001b[0m\u001b[0;34m(\u001b[0m\u001b[0;34m\"Enter the Number\"\u001b[0m\u001b[0;34m)\u001b[0m\u001b[0;34m\u001b[0m\u001b[0;34m\u001b[0m\u001b[0m\n\u001b[1;32m      2\u001b[0m \u001b[0;34m\u001b[0m\u001b[0m\n\u001b[0;32m----> 3\u001b[0;31m \u001b[0;32mif\u001b[0m  \u001b[0mNumber\u001b[0m\u001b[0;34m>\u001b[0m\u001b[0;36m0\u001b[0m\u001b[0;34m:\u001b[0m\u001b[0;34m\u001b[0m\u001b[0;34m\u001b[0m\u001b[0m\n\u001b[0m\u001b[1;32m      4\u001b[0m   \u001b[0mprint\u001b[0m\u001b[0;34m(\u001b[0m\u001b[0;34m\"Number is positive\"\u001b[0m\u001b[0;34m)\u001b[0m\u001b[0;34m\u001b[0m\u001b[0;34m\u001b[0m\u001b[0m\n\u001b[1;32m      5\u001b[0m \u001b[0;32melif\u001b[0m \u001b[0mNumber\u001b[0m\u001b[0;34m<\u001b[0m\u001b[0;36m0\u001b[0m\u001b[0;34m:\u001b[0m\u001b[0;34m\u001b[0m\u001b[0;34m\u001b[0m\u001b[0m\n",
            "\u001b[0;31mTypeError\u001b[0m: '>' not supported between instances of 'str' and 'int'"
          ]
        }
      ]
    },
    {
      "cell_type": "code",
      "source": [
        "#Write code to demonstrate type casting with list elements"
      ],
      "metadata": {
        "id": "1CQnyWuWM_tN"
      },
      "execution_count": null,
      "outputs": []
    },
    {
      "cell_type": "code",
      "source": [
        "a=[1,2,4,3.5,\"Raj\"]\n",
        "print(type(a))"
      ],
      "metadata": {
        "colab": {
          "base_uri": "https://localhost:8080/"
        },
        "id": "0gG9opRzLPfl",
        "outputId": "823a8da2-1b11-4589-cda7-f34dee549d0a"
      },
      "execution_count": 7,
      "outputs": [
        {
          "output_type": "stream",
          "name": "stdout",
          "text": [
            "<class 'list'>\n"
          ]
        }
      ]
    },
    {
      "cell_type": "code",
      "source": [
        "a=(1,2,4,3.5,\"Raj\")\n",
        "print(type(str(a)))"
      ],
      "metadata": {
        "colab": {
          "base_uri": "https://localhost:8080/"
        },
        "id": "480kFrymLPk5",
        "outputId": "645250a1-16e2-42c3-acb9-d6bea9a63d10"
      },
      "execution_count": 10,
      "outputs": [
        {
          "output_type": "stream",
          "name": "stdout",
          "text": [
            "<class 'str'>\n"
          ]
        }
      ]
    },
    {
      "cell_type": "code",
      "source": [
        "#Write code to demonstrate type casting with list elements\n",
        "\n",
        "# List with mixed types\n",
        "my_list = ['10', '20', '30', 4.5, 5.7, 6, '8']\n",
        "\n",
        "# Convert elements to integers\n",
        "int_list = []\n",
        "for item in my_list:\n",
        "    if isinstance(item, str) or isinstance(item, float):\n",
        "        int_list.append(int(float(item)))  # Convert to float first to handle decimals\n",
        "    else:\n",
        "        int_list.append(item)\n",
        "\n",
        "print(\"List after converting to integers:\", int_list)\n",
        "\n",
        "# Convert elements to floats\n",
        "float_list = []\n",
        "for item in my_list:\n",
        "    float_list.append(float(item))\n",
        "\n",
        "print(\"List after converting to floats:\", float_list)\n",
        "\n",
        "# Convert elements to strings\n",
        "str_list = []\n",
        "for item in my_list:\n",
        "    str_list.append(str(item))\n",
        "\n",
        "print(\"List after converting to strings:\", str_list)\n"
      ],
      "metadata": {
        "colab": {
          "base_uri": "https://localhost:8080/"
        },
        "id": "_-1eXUjrOkSD",
        "outputId": "d0bd9eb3-440c-4246-d739-9bc0310e34a7"
      },
      "execution_count": 21,
      "outputs": [
        {
          "output_type": "stream",
          "name": "stdout",
          "text": [
            "List after converting to integers: [10, 20, 30, 4, 5, 6, 8]\n",
            "List after converting to floats: [10.0, 20.0, 30.0, 4.5, 5.7, 6.0, 8.0]\n",
            "List after converting to strings: ['10', '20', '30', '4.5', '5.7', '6', '8']\n"
          ]
        }
      ]
    },
    {
      "cell_type": "code",
      "source": [
        "# Write a program that checks if a number is positive, negative, or zero\n",
        "\n",
        "number = int(input(\"Enter a number: \"))\n",
        "\n",
        "# Check the condition\n",
        "if number > 0:\n",
        "    print(\"The number is positive.\")\n",
        "elif number < 0:\n",
        "    print(\"The number is negative.\")\n",
        "else:\n",
        "    print(\"The number is zero.\")"
      ],
      "metadata": {
        "colab": {
          "base_uri": "https://localhost:8080/"
        },
        "id": "y_iGDZRyO05N",
        "outputId": "6a9b9f36-df04-4cf7-8d02-9777738898c7"
      },
      "execution_count": 26,
      "outputs": [
        {
          "output_type": "stream",
          "name": "stdout",
          "text": [
            "Enter a number: 4\n",
            "The number is positive.\n"
          ]
        }
      ]
    },
    {
      "cell_type": "code",
      "source": [
        "# Write a for loop to print numbers from 1 to 10\n",
        "for i in range(1,11):\n",
        "  print(i)"
      ],
      "metadata": {
        "colab": {
          "base_uri": "https://localhost:8080/"
        },
        "id": "knsuXjvMPKWa",
        "outputId": "02588032-a89f-4318-c0bf-946bddad9bc4"
      },
      "execution_count": 27,
      "outputs": [
        {
          "output_type": "stream",
          "name": "stdout",
          "text": [
            "1\n",
            "2\n",
            "3\n",
            "4\n",
            "5\n",
            "6\n",
            "7\n",
            "8\n",
            "9\n",
            "10\n"
          ]
        }
      ]
    },
    {
      "cell_type": "code",
      "source": [
        "#Write a Python program to find the sum of all even numbers between 1 and 50\n",
        "for i in range(1,51):\n",
        "  if i%2==0:\n",
        "    print(i)\n",
        "\n"
      ],
      "metadata": {
        "colab": {
          "base_uri": "https://localhost:8080/"
        },
        "id": "nKg-zN2AP8sB",
        "outputId": "fd19686a-fe68-4af5-ccbe-8315becc5179"
      },
      "execution_count": 28,
      "outputs": [
        {
          "output_type": "stream",
          "name": "stdout",
          "text": [
            "2\n",
            "4\n",
            "6\n",
            "8\n",
            "10\n",
            "12\n",
            "14\n",
            "16\n",
            "18\n",
            "20\n",
            "22\n",
            "24\n",
            "26\n",
            "28\n",
            "30\n",
            "32\n",
            "34\n",
            "36\n",
            "38\n",
            "40\n",
            "42\n",
            "44\n",
            "46\n",
            "48\n",
            "50\n"
          ]
        }
      ]
    },
    {
      "cell_type": "code",
      "source": [
        "sum=0\n",
        "for i in range(1,51):\n",
        "  if i%2==0:\n",
        "    sum=sum+i\n",
        "    print(sum)\n"
      ],
      "metadata": {
        "colab": {
          "base_uri": "https://localhost:8080/"
        },
        "id": "k_Vygmw8QlIY",
        "outputId": "6435537e-cc59-4bc0-8a27-16bea1cfa079"
      },
      "execution_count": 29,
      "outputs": [
        {
          "output_type": "stream",
          "name": "stdout",
          "text": [
            "2\n",
            "6\n",
            "12\n",
            "20\n",
            "30\n",
            "42\n",
            "56\n",
            "72\n",
            "90\n",
            "110\n",
            "132\n",
            "156\n",
            "182\n",
            "210\n",
            "240\n",
            "272\n",
            "306\n",
            "342\n",
            "380\n",
            "420\n",
            "462\n",
            "506\n",
            "552\n",
            "600\n",
            "650\n"
          ]
        }
      ]
    },
    {
      "cell_type": "code",
      "source": [
        "# Function to reverse a string using a while loop\n",
        "def reverse_string(input_string):\n",
        "    # Initialize variables\n",
        "    reversed_string = \"\"\n",
        "    index = len(input_string) - 1  # Start from the last character\n",
        "\n",
        "    # Use a while loop to iterate through the string in reverse order\n",
        "    while index >= 0:\n",
        "        reversed_string += input_string[index]\n",
        "        index -= 1\n",
        "\n",
        "    return reversed_string\n",
        "\n",
        "# Example usage\n",
        "input_string = input(\"Enter a string to reverse: \")\n",
        "reversed_string = reverse_string(input_string)\n",
        "print(\"Reversed string:\", reversed_string)"
      ],
      "metadata": {
        "colab": {
          "base_uri": "https://localhost:8080/"
        },
        "id": "fKf4vao0Q5ps",
        "outputId": "7c8efbc0-55b4-49f8-de34-44ad717fa45c"
      },
      "execution_count": 30,
      "outputs": [
        {
          "output_type": "stream",
          "name": "stdout",
          "text": [
            "Enter a string to reverse: Raj\n",
            "Reversed string: jaR\n"
          ]
        }
      ]
    },
    {
      "cell_type": "code",
      "source": [
        "# Function to calculate factorial using a while loop\n",
        "def factorial(number):\n",
        "    if number < 0:\n",
        "        return \"Factorial is not defined for negative numbers.\"\n",
        "    result = 1\n",
        "    while number > 0:\n",
        "        result *= number\n",
        "        number -= 1\n",
        "    return result\n",
        "\n",
        "# Input from the user\n",
        "try:\n",
        "    num = int(input(\"Enter a non-negative integer to calculate its factorial: \"))\n",
        "    print(f\"The factorial of {num} is: {factorial(num)}\")\n",
        "except ValueError:\n",
        "    print(\"Invalid input! Please enter a non-negative integer.\")"
      ],
      "metadata": {
        "colab": {
          "base_uri": "https://localhost:8080/"
        },
        "id": "gV42_yXdWySN",
        "outputId": "86d58b72-c339-449d-96ca-8419ec5941e0"
      },
      "execution_count": 31,
      "outputs": [
        {
          "output_type": "stream",
          "name": "stdout",
          "text": [
            "Enter a non-negative integer to calculate its factorial: 4\n",
            "The factorial of 4 is: 24\n"
          ]
        }
      ]
    }
  ]
}